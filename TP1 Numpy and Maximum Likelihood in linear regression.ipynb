{
 "cells": [
  {
   "cell_type": "code",
   "execution_count": 2,
   "metadata": {},
   "outputs": [],
   "source": [
    "import numpy as np\n",
    "import matplotlib.pyplot as plt\n",
    "import statsmodels.api as sm\n",
    "import scipy\n"
   ]
  },
  {
   "cell_type": "markdown",
   "metadata": {},
   "source": [
    "# Random numbers\n",
    "\n",
    "Numpy let you generate random numbers. Using the random number generators given as examples, implement the functions below."
   ]
  },
  {
   "cell_type": "code",
   "execution_count": 3,
   "metadata": {},
   "outputs": [
    {
     "data": {
      "text/plain": [
       "-0.1560750384615752"
      ]
     },
     "execution_count": 3,
     "metadata": {},
     "output_type": "execute_result"
    }
   ],
   "source": [
    "np.random.normal()"
   ]
  },
  {
   "cell_type": "code",
   "execution_count": 4,
   "metadata": {},
   "outputs": [
    {
     "data": {
      "text/plain": [
       "array([13.73531822,  8.52899912, 11.96711698])"
      ]
     },
     "execution_count": 4,
     "metadata": {},
     "output_type": "execute_result"
    }
   ],
   "source": [
    "mu = 10\n",
    "variance = 2\n",
    "np.random.normal(mu, variance, size=(3, ))"
   ]
  },
  {
   "cell_type": "code",
   "execution_count": 5,
   "metadata": {},
   "outputs": [
    {
     "data": {
      "text/plain": [
       "array([[-0.06065288, -0.07741954],\n",
       "       [ 0.46431863,  0.15822343],\n",
       "       [ 0.40610119,  0.0386874 ]])"
      ]
     },
     "execution_count": 5,
     "metadata": {},
     "output_type": "execute_result"
    }
   ],
   "source": [
    "mu = np.zeros((2,))\n",
    "var = np.eye(2)\n",
    "np.random.multivariate_normal(mu,var, size=(3,))"
   ]
  },
  {
   "cell_type": "code",
   "execution_count": 6,
   "metadata": {},
   "outputs": [
    {
     "data": {
      "text/plain": [
       "(8, 1)"
      ]
     },
     "execution_count": 6,
     "metadata": {},
     "output_type": "execute_result"
    }
   ],
   "source": [
    "p = 0.8\n",
    "n = 10\n",
    "np.random.binomial(n, p), np.random.binomial(1, p) # Binomial(n,p), Bernoulli(p)"
   ]
  },
  {
   "cell_type": "code",
   "execution_count": 7,
   "metadata": {},
   "outputs": [
    {
     "data": {
      "text/plain": [
       "array([1, 1, 1, 0, 1])"
      ]
     },
     "execution_count": 7,
     "metadata": {},
     "output_type": "execute_result"
    }
   ],
   "source": [
    "np.random.binomial(1, p, size=(5, ))"
   ]
  },
  {
   "cell_type": "code",
   "execution_count": 8,
   "metadata": {},
   "outputs": [
    {
     "data": {
      "text/plain": [
       "array([[[ 4.08808626,  4.26229626, -0.9611288 ],\n",
       "        [ 4.26229626,  6.15662844, -3.63035755],\n",
       "        [-0.9611288 , -3.63035755,  7.59447057]]])"
      ]
     },
     "execution_count": 8,
     "metadata": {},
     "output_type": "execute_result"
    }
   ],
   "source": [
    "from scipy import linalg\n",
    "\n",
    "def generate_wishart(n, covariance, k=1):\n",
    "    \"\"\"\n",
    "    Return k Wishart matrices with degrees of freedom n\n",
    "    and given covariance.\n",
    "    \n",
    "    Parameters\n",
    "    ----------\n",
    "    n: int\n",
    "        degrees of freedom\n",
    "    covariance: np array of shape (p, p)\n",
    "        covariance matrix\n",
    "    k: int or None (optional)\n",
    "        number of wishart matrices to return\n",
    "    \n",
    "    Return\n",
    "    ------\n",
    "    W: np array of shape (k, p, p)\n",
    "        k Wishart matrices\n",
    "    \"\"\"\n",
    "    p = covariance.shape[0] \n",
    "    mu = np.zeros((p,))\n",
    "    X = np.random.multivariate_normal(mu, covariance, size =(k,n))\n",
    "    W = np.asarray([np.dot(X[i].T,X[i]) for i in range(X.shape[0])])\n",
    "    return W\n",
    "\n",
    "\n",
    "generate_wishart(5, np.eye(3))"
   ]
  },
  {
   "cell_type": "code",
   "execution_count": 9,
   "metadata": {},
   "outputs": [
    {
     "data": {
      "text/plain": [
       "6"
      ]
     },
     "execution_count": 9,
     "metadata": {},
     "output_type": "execute_result"
    }
   ],
   "source": [
    "np.random.choice(6) + 1 # roll a die"
   ]
  },
  {
   "cell_type": "code",
   "execution_count": 10,
   "metadata": {},
   "outputs": [
    {
     "data": {
      "text/plain": [
       "array([5, 2, 5, 2, 1, 5, 6, 1, 6, 2])"
      ]
     },
     "execution_count": 10,
     "metadata": {},
     "output_type": "execute_result"
    }
   ],
   "source": [
    "1 + np.random.choice(6, p =[1/6, 1/6, 1/6, 1/6, 1/6, 1/6], size=(10, ))  # roll a die 10 times"
   ]
  },
  {
   "cell_type": "code",
   "execution_count": 11,
   "metadata": {},
   "outputs": [
    {
     "data": {
      "text/plain": [
       "array([6, 6, 6, 2, 5, 1, 6, 6, 6, 6])"
      ]
     },
     "execution_count": 11,
     "metadata": {},
     "output_type": "execute_result"
    }
   ],
   "source": [
    "# roll a biased die 10 times\n",
    "1 + np.random.choice(6, p =[1/10, 1/10, 1/10, 1/10, 1/10, 1/2], size=(10, )) "
   ]
  },
  {
   "cell_type": "code",
   "execution_count": 12,
   "metadata": {},
   "outputs": [
    {
     "data": {
      "image/png": "[encoded data removed]",
      "text/plain": [
       "<Figure size 432x288 with 1 Axes>"
      ]
     },
     "metadata": {
      "needs_background": "light"
     },
     "output_type": "display_data"
    },
    {
     "data": {
      "image/png": "[encoded data removed]",
      "text/plain": [
       "<Figure size 432x288 with 1 Axes>"
      ]
     },
     "metadata": {
      "needs_background": "light"
     },
     "output_type": "display_data"
    }
   ],
   "source": [
    "def biased_die_histogram(p, k):\n",
    "    \"\"\"\n",
    "    Draw a biased die with probabilities p, k times, and plot the resulting histograms.\n",
    "    There should be six bars.\n",
    "    \n",
    "    Parameters\n",
    "    ----------\n",
    "    p : np array of shape (6,)\n",
    "        The probabilities associated with each outcome of the dice.\n",
    "    k: int\n",
    "        Number of rolls\n",
    "    \"\"\"\n",
    "    die = np.asarray([1,2,3,4,5,6])\n",
    "    R=np.random.choice(die, p=p, size=(k, ))\n",
    "    plt.bar(*np.unique(R, return_counts=True))\n",
    "    plt.show()\n",
    "\n",
    "\n",
    "biased_die_histogram([1/6, 1/6, 1/6, 1/6, 1/6, 1/6], 100)\n",
    "biased_die_histogram([1/10, 1/10, 1/10, 1/10, 1/10, 1/2], 100)"
   ]
  },
  {
   "cell_type": "markdown",
   "metadata": {},
   "source": [
    "# SVD, Pseudo-Inverse in numpy\n",
    "\n",
    "Generate a random matrix A of size (3, 6) with iid N(0,1) entries, and verify that the singular values squared are the eigenvalues of the matrix $A^TA$.\n",
    "\n",
    "Verify that the pseudo-inverse computed by ``np.linalg.pinv`` is the same as the pseudo-inverse computed from its definition using the SVD."
   ]
  },
  {
   "cell_type": "code",
   "execution_count": 19,
   "metadata": {},
   "outputs": [
    {
     "name": "stdout",
     "output_type": "stream",
     "text": [
      "[16.14843125  2.10092368  1.45168688]\n",
      "[ 1.61484313e+01+0.j  2.10749446e-16+0.j  2.10092368e+00+0.j\n",
      "  1.45168688e+00+0.j  3.04515848e-16+0.j -5.56723764e-16+0.j]\n"
     ]
    },
    {
     "data": {
      "text/plain": [
       "array([[-0.31780258,  0.22248413,  0.00857   ],\n",
       "       [ 0.28908349,  0.30830129, -0.30616897],\n",
       "       [-0.11800516, -0.28462221, -0.1743541 ],\n",
       "       [ 0.10361107, -0.20544705,  0.08283618],\n",
       "       [-0.29125062, -0.01658819,  0.08545747],\n",
       "       [-0.05172226,  0.0504143 , -0.00098096]])"
      ]
     },
     "execution_count": 19,
     "metadata": {},
     "output_type": "execute_result"
    }
   ],
   "source": [
    "def test_singular_values_eigenvalues():\n",
    "    \"\"\"Test that the square of the singular values of X gives the eigenvalue of X^T.dot(X)\n",
    "    \"\"\"\n",
    "    A = np.random.normal(0,1,(3,6))\n",
    "    U, s, V  = scipy.linalg.svd(A)\n",
    "    eigvals, eigvects = scipy.linalg.eig(np.dot(A.T, A))\n",
    "    print(s**2)\n",
    "    print(eigvals)\n",
    "    return A\n",
    "\n",
    "test_singular_values_eigenvalues()\n",
    "\n",
    "def test_pinv():\n",
    "    \"\"\"Test that computing the pseudo inverse with pinv or via svd gives the same result\n",
    "    \"\"\"\n",
    "    A = np.random.normal(0,1,(3,6))\n",
    "    return linalg.pinv(A)\n",
    "\n",
    "test_pinv()"
   ]
  },
  {
   "cell_type": "markdown",
   "metadata": {},
   "source": [
    "# Boxplots\n",
    "\n",
    "Using matplotlib, for each $\\theta = 1,2,...20$, generate 100 independent copies of a random variable with $N(\\theta, \\theta^{-1})$ distribution. Plot the generated random variables with boxplots, one boxplot for each value of $\\theta$ and the x-axis representing $\\theta$."
   ]
  },
  {
   "cell_type": "code",
   "execution_count": 24,
   "metadata": {},
   "outputs": [],
   "source": [
    "theta = np.arange(1,21)"
   ]
  },
  {
   "cell_type": "code",
   "execution_count": 49,
   "metadata": {},
   "outputs": [
    {
     "data": {
      "image/png": "[encoded data removed]",
      "text/plain": [
       "<Figure size 432x288 with 1 Axes>"
      ]
     },
     "metadata": {
      "needs_background": "light"
     },
     "output_type": "display_data"
    }
   ],
   "source": [
    "def plot_boxplot_normal_increasing_mean_and_variance():\n",
    "    \"\"\"Using matplotlib, for each theta = 1,2,...,20, \n",
    "    generate 100 independent copies of a random variable \n",
    "    with N(theta, theta^{-1}) distribution. \n",
    "    Plot the generated random variables with boxplots, \n",
    "    one boxplot for each value of theta and \n",
    "    the x-axis representing theta.\n",
    "    \"\"\"\n",
    "    theta = np.arange(1,21)\n",
    "    RV = np.asarray([np.random.normal(the, 1/np.sqrt(the) , 100) for the in theta])\n",
    "    for i in range(len(theta)):\n",
    "        plt.boxplot(RV[i])\n",
    "    return \n",
    "    raise NotImplementedError\n",
    "\n",
    "plot_boxplot_normal_increasing_mean_and_variance()"
   ]
  },
  {
   "cell_type": "markdown",
   "metadata": {},
   "source": [
    "# Quantile quantile plots\n",
    "\n",
    "In order to check visually that a collection of random variables follow a certain distribution, quantile quantile plots are convenient."
   ]
  },
  {
   "cell_type": "code",
   "execution_count": 39,
   "metadata": {},
   "outputs": [],
   "source": [
    "n = 10\n",
    "X = np.random.randint(1000, size=n) # generate n numbers\n",
    "X_sort = np.sort(X) # sort them\n",
    "scores  = np.arange(1, n + 1) / (n+1) # their corresponding scores (many other methods are possible)"
   ]
  },
  {
   "cell_type": "code",
   "execution_count": 40,
   "metadata": {},
   "outputs": [
    {
     "data": {
      "image/png": "[encoded data removed]",
      "text/plain": [
       "<Figure size 432x288 with 1 Axes>"
      ]
     },
     "metadata": {
      "needs_background": "light"
     },
     "output_type": "display_data"
    },
    {
     "data": {
      "image/png": "[encoded data removed]",
      "text/plain": [
       "<Figure size 432x288 with 1 Axes>"
      ]
     },
     "metadata": {
      "needs_background": "light"
     },
     "output_type": "display_data"
    },
    {
     "data": {
      "image/png": "[encoded data removed]",
      "text/plain": [
       "<Figure size 432x288 with 1 Axes>"
      ]
     },
     "metadata": {
      "needs_background": "light"
     },
     "output_type": "display_data"
    },
    {
     "name": "stdout",
     "output_type": "stream",
     "text": [
      "20%, 50% and 60% quantiles: [-1.37638192  0.          0.3249197 ]\n"
     ]
    }
   ],
   "source": [
    "# Getting theoretical quantities on distributions\n",
    "cauchy = scipy.stats.cauchy # many others are available\n",
    "# the probability density function\n",
    "X = np.arange(-100, 100, 0.1)\n",
    "plt.figure()\n",
    "plt.title(\"The pdf of Cauchy density\")\n",
    "plt.plot(X, cauchy.pdf(X))\n",
    "plt.show()\n",
    "# the cumulative distribution function\n",
    "X = np.arange(-100, 100, 0.1)\n",
    "plt.figure()\n",
    "plt.title(\"The cdf of Cauchy density\")\n",
    "plt.plot(X, cauchy.cdf(X))\n",
    "plt.show()\n",
    "# the percent point function (inverse of cdf)\n",
    "X = np.arange(0, 1, 0.01)\n",
    "plt.figure()\n",
    "plt.title(\"The ppf of Cauchy density\")\n",
    "plt.plot(X, cauchy.ppf(X))\n",
    "plt.show()\n",
    "# Theoretical 20%, 50% and 60% quantiles of cauchy distribution\n",
    "quantiles = cauchy.ppf((0.2, 0.5, 0.6))\n",
    "print(\"20%, 50% and 60% quantiles:\", quantiles)"
   ]
  },
  {
   "cell_type": "markdown",
   "metadata": {},
   "source": [
    "1. Generate 100 independent copies of N(1,3) random variables and plot the QQ-plot\n",
    "against the theoretical quantiles of the N(0,1), N(5, 3) and N(1,3) distribution. Superpose on the plot the line y=x.\n",
    "\n",
    "2. Generate 100 independent copies of chi-square random variables with 5 degrees of freedom,\n",
    "and compare those aginst the theoretical quantiles of the N(5,1) distribution, the $\\chi^2_4$ distribution, the $\\chi^2_5$ distribution, the $\\chi^2_6$ distribution.Superpose on the plot the line y=x."
   ]
  },
  {
   "cell_type": "code",
   "execution_count": 24,
   "metadata": {},
   "outputs": [
    {
     "ename": "NotImplementedError",
     "evalue": "",
     "output_type": "error",
     "traceback": [
      "\u001b[0;31m---------------------------------------------------------------------------\u001b[0m",
      "\u001b[0;31mNotImplementedError\u001b[0m                       Traceback (most recent call last)",
      "\u001b[0;32m/tmp/ipykernel_841398/3108092858.py\u001b[0m in \u001b[0;36m<module>\u001b[0;34m\u001b[0m\n\u001b[1;32m     22\u001b[0m     \u001b[0msm\u001b[0m\u001b[0;34m.\u001b[0m\u001b[0mqqplot\u001b[0m\u001b[0;34m(\u001b[0m\u001b[0mX\u001b[0m\u001b[0;34m,\u001b[0m \u001b[0mline\u001b[0m\u001b[0;34m=\u001b[0m\u001b[0;34m'45'\u001b[0m\u001b[0;34m)\u001b[0m\u001b[0;34m\u001b[0m\u001b[0;34m\u001b[0m\u001b[0m\n\u001b[1;32m     23\u001b[0m \u001b[0;34m\u001b[0m\u001b[0m\n\u001b[0;32m---> 24\u001b[0;31m \u001b[0mtest_qqplot_sm\u001b[0m\u001b[0;34m(\u001b[0m\u001b[0;34m)\u001b[0m\u001b[0;34m\u001b[0m\u001b[0;34m\u001b[0m\u001b[0m\n\u001b[0m",
      "\u001b[0;32m/tmp/ipykernel_841398/3108092858.py\u001b[0m in \u001b[0;36mtest_qqplot_sm\u001b[0;34m()\u001b[0m\n\u001b[1;32m     19\u001b[0m     \"\"\"\n\u001b[1;32m     20\u001b[0m     \u001b[0mX\u001b[0m \u001b[0;34m=\u001b[0m \u001b[0mnp\u001b[0m\u001b[0;34m.\u001b[0m\u001b[0mrandom\u001b[0m\u001b[0;34m.\u001b[0m\u001b[0mnormal\u001b[0m\u001b[0;34m(\u001b[0m\u001b[0;36m0\u001b[0m\u001b[0;34m,\u001b[0m \u001b[0;36m1\u001b[0m\u001b[0;34m,\u001b[0m \u001b[0msize\u001b[0m\u001b[0;34m=\u001b[0m\u001b[0;36m100\u001b[0m\u001b[0;34m)\u001b[0m\u001b[0;34m\u001b[0m\u001b[0;34m\u001b[0m\u001b[0m\n\u001b[0;32m---> 21\u001b[0;31m     \u001b[0mqqplot\u001b[0m\u001b[0;34m(\u001b[0m\u001b[0mX\u001b[0m\u001b[0;34m,\u001b[0m \u001b[0mscipy\u001b[0m\u001b[0;34m.\u001b[0m\u001b[0mstats\u001b[0m\u001b[0;34m.\u001b[0m\u001b[0mnorm\u001b[0m\u001b[0;34m)\u001b[0m\u001b[0;34m\u001b[0m\u001b[0;34m\u001b[0m\u001b[0m\n\u001b[0m\u001b[1;32m     22\u001b[0m     \u001b[0msm\u001b[0m\u001b[0;34m.\u001b[0m\u001b[0mqqplot\u001b[0m\u001b[0;34m(\u001b[0m\u001b[0mX\u001b[0m\u001b[0;34m,\u001b[0m \u001b[0mline\u001b[0m\u001b[0;34m=\u001b[0m\u001b[0;34m'45'\u001b[0m\u001b[0;34m)\u001b[0m\u001b[0;34m\u001b[0m\u001b[0;34m\u001b[0m\u001b[0m\n\u001b[1;32m     23\u001b[0m \u001b[0;34m\u001b[0m\u001b[0m\n",
      "\u001b[0;32m/tmp/ipykernel_841398/3108092858.py\u001b[0m in \u001b[0;36mqqplot\u001b[0;34m(data, distribution)\u001b[0m\n\u001b[1;32m     12\u001b[0m         \u001b[0mTheoretical\u001b[0m \u001b[0mdistribution\u001b[0m \u001b[0mto\u001b[0m \u001b[0mcompare\u001b[0m \u001b[0mto\u001b[0m\u001b[0;34m\u001b[0m\u001b[0;34m\u001b[0m\u001b[0m\n\u001b[1;32m     13\u001b[0m     \"\"\"\n\u001b[0;32m---> 14\u001b[0;31m     \u001b[0;32mraise\u001b[0m \u001b[0mNotImplementedError\u001b[0m\u001b[0;34m\u001b[0m\u001b[0;34m\u001b[0m\u001b[0m\n\u001b[0m\u001b[1;32m     15\u001b[0m \u001b[0;34m\u001b[0m\u001b[0m\n\u001b[1;32m     16\u001b[0m \u001b[0;32mdef\u001b[0m \u001b[0mtest_qqplot_sm\u001b[0m\u001b[0;34m(\u001b[0m\u001b[0;34m)\u001b[0m\u001b[0;34m:\u001b[0m\u001b[0;34m\u001b[0m\u001b[0;34m\u001b[0m\u001b[0m\n",
      "\u001b[0;31mNotImplementedError\u001b[0m: "
     ]
    }
   ],
   "source": [
    "def qqplot(data, distribution):\n",
    "    \"\"\"\n",
    "    Generate a qqplot using the quantiles of the data and the theoretical data of the distribution.\n",
    "    Superpose on the plot the line y=x.\n",
    "    \n",
    "    Parameters\n",
    "    ----------\n",
    "    data: np array of shape (100,)\n",
    "        Empirical data\n",
    "    \n",
    "    distribution: distribution from scipy.stats\n",
    "        Theoretical distribution to compare to\n",
    "    \"\"\"\n",
    "    raise NotImplementedError\n",
    "    \n",
    "def test_qqplot_sm():\n",
    "    \"\"\"\n",
    "    Test the plot is the same as in sm.qqplot\n",
    "    \"\"\"\n",
    "    X = np.random.normal(0, 1, size=100)\n",
    "    qqplot(X, scipy.stats.norm)\n",
    "    sm.qqplot(X, line='45')\n",
    "    \n",
    "test_qqplot_sm()"
   ]
  },
  {
   "cell_type": "code",
   "execution_count": 27,
   "metadata": {},
   "outputs": [
    {
     "ename": "NotImplementedError",
     "evalue": "",
     "output_type": "error",
     "traceback": [
      "\u001b[0;31m---------------------------------------------------------------------------\u001b[0m",
      "\u001b[0;31mNotImplementedError\u001b[0m                       Traceback (most recent call last)",
      "\u001b[0;32m/tmp/ipykernel_841398/3077871989.py\u001b[0m in \u001b[0;36m<module>\u001b[0;34m\u001b[0m\n\u001b[0;32m----> 1\u001b[0;31m \u001b[0;32mraise\u001b[0m \u001b[0mNotImplementedError\u001b[0m\u001b[0;34m\u001b[0m\u001b[0;34m\u001b[0m\u001b[0m\n\u001b[0m\u001b[1;32m      2\u001b[0m \u001b[0;31m# Answer 1.\u001b[0m\u001b[0;34m\u001b[0m\u001b[0;34m\u001b[0m\u001b[0;34m\u001b[0m\u001b[0m\n",
      "\u001b[0;31mNotImplementedError\u001b[0m: "
     ]
    }
   ],
   "source": [
    "raise NotImplementedError\n",
    "# Answer 1."
   ]
  },
  {
   "cell_type": "code",
   "execution_count": 26,
   "metadata": {},
   "outputs": [
    {
     "ename": "NotImplementedError",
     "evalue": "",
     "output_type": "error",
     "traceback": [
      "\u001b[0;31m---------------------------------------------------------------------------\u001b[0m",
      "\u001b[0;31mNotImplementedError\u001b[0m                       Traceback (most recent call last)",
      "\u001b[0;32m/tmp/ipykernel_841398/2453162538.py\u001b[0m in \u001b[0;36m<module>\u001b[0;34m\u001b[0m\n\u001b[1;32m      1\u001b[0m \u001b[0;31m# Answer 2.\u001b[0m\u001b[0;34m\u001b[0m\u001b[0;34m\u001b[0m\u001b[0;34m\u001b[0m\u001b[0m\n\u001b[0;32m----> 2\u001b[0;31m \u001b[0;32mraise\u001b[0m \u001b[0mNotImplementedError\u001b[0m\u001b[0;34m\u001b[0m\u001b[0;34m\u001b[0m\u001b[0m\n\u001b[0m",
      "\u001b[0;31mNotImplementedError\u001b[0m: "
     ]
    }
   ],
   "source": [
    "# Answer 2.\n",
    "raise NotImplementedError"
   ]
  },
  {
   "cell_type": "markdown",
   "metadata": {},
   "source": [
    "# Generate a simple regression model\n",
    "\n",
    "Given the sample size n and dimension p, generate a dataset (y, X) where y has size n and X has size n times p,\n",
    "such that\n",
    "$y = X \\beta^* + \\beta_0^* + \\epsilon$ where $\\epsilon$ has iid $N(0,\\sigma^2)$ entries, $X$ has iid $N(0,1)$ entries, and $\\beta^*\\in R^p$ has norm equal to the signal strength parameter, and $\\beta_0^*$ is the intercept."
   ]
  },
  {
   "cell_type": "code",
   "execution_count": 69,
   "metadata": {},
   "outputs": [],
   "source": [
    "def linear_regression(X, beta_true, sigma):\n",
    "    \"\"\"\n",
    "    Applies the linear regression model\n",
    "    \n",
    "    Parameters\n",
    "    -----------\n",
    "    \n",
    "    X: np array of shape (n, p)\n",
    "    input features\n",
    "\n",
    "    beta_true: np array of shape (p)\n",
    "    true coefficients\n",
    "    \n",
    "    sigma: float\n",
    "    noise standard deviation \n",
    "\n",
    "    Return\n",
    "    ------\n",
    "    y: np array of shape (n,)\n",
    "    responses generated accroding to the linear regression model\n",
    "    y= X beta_star + eps\n",
    "    \"\"\"\n",
    "    raise NotImplementedError\n",
    "\n",
    "def generate_dataset(n, p, sigma=0.7, signal_strength=2):\n",
    "    \"\"\"\n",
    "    Generate a data set (with intercept = 0)\n",
    "    Take beta_star uniformly in the sphere of length: signal_strength\n",
    "    Parameters\n",
    "    ----------\n",
    "    n: int\n",
    "        number of samples\n",
    "    p: int\n",
    "        dimension\n",
    "    sigma: float\n",
    "        noise standard deviation\n",
    "    signal_strength: float\n",
    "        norm of the true parameter b_true\n",
    "    \n",
    "    Return\n",
    "    X: np array of shape (n, p)\n",
    "        Features\n",
    "    y: np array of shape (n,)\n",
    "        Target\n",
    "    b_true: np array of shape (p,)\n",
    "    \"\"\"\n",
    "\n",
    "    X=np.random.multivariate_normal(np.zeros(p), np.eye(p), size = (n,))\n",
    "    epsilon = np.random.multivariate_normal(np.zeros(n), sigma*np.eye(n))\n",
    "    b_true = np.random.uniform(size=(p,))\n",
    "    b_true = signal_strength * b_true / np.linalg.norm(b_true)\n",
    "    y = np.matmul(X, b_true) + epsilon\n",
    "    return X, y, b_true\n",
    "\n",
    "def test_nointercept():\n",
    "    \"\"\"\n",
    "    Check that X.dot(b_true) = y when the noise is 0\n",
    "    \"\"\"\n",
    "    X, y, b_true = generate_dataset(100, 10, sigma=0, signal_strength=1)\n",
    "    np.testing.assert_allclose(X.dot(b_true), y)\n",
    "    \n",
    "#test_nointercept()\n",
    "\n",
    "def generate_dataset_with_intercept(n, p, sigma=0.7, signal_strength=2):\n",
    "    \"\"\"\n",
    "    Generate a data set, same as before, but here the returned array X should have\n",
    "    p+1 columns, and the first column contains only 1,1,...,1 to accout for\n",
    "    possible intercept.\n",
    "    Parameters\n",
    "    ----------\n",
    "    n: int\n",
    "        number of samples\n",
    "    p: int\n",
    "        dimension\n",
    "    sigma: float\n",
    "        noise standard deviation\n",
    "    signal_strength: float\n",
    "        norm of the true parameter b_true\n",
    "    \n",
    "    Return\n",
    "    X: np array of shape (n, p + 1)\n",
    "        Features, last column contains only ones\n",
    "    y: np array of shape (n,)\n",
    "        Target\n",
    "    b_true: np array of shape (p + 1,)\n",
    "        true coefficients (last one is the intercept)\n",
    "    \"\"\"\n",
    "\n",
    "    X=np.random.multivariate_normal(np.zeros(p+1), np.eye(p+1), size = (n,))\n",
    "    epsilon = np.random.multivariate_normal(np.zeros(n), sigma*np.eye(n))\n",
    "    b_true = np.random.uniform(size=(p+1,))\n",
    "    b_true = signal_strength * b_true / np.linalg.norm(b_true)\n",
    "    y = np.matmul(X, b_true) + epsilon\n",
    "    return X, y, b_true\n",
    "\n",
    "    raise NotImplementedError\n",
    "\n",
    "def test_intercept():\n",
    "    \"\"\"\n",
    "    Check that X.dot(b_true) = y when the noise is 0 and intercept = 0\n",
    "    \"\"\"\n",
    "    X, y, b_true = generate_dataset_with_intercept(100, 10, sigma=0, signal_strength=1)\n",
    "    np.testing.assert_allclose(X[:, :-1].dot(b_true[:-1]) + b_true[-1], y)"
   ]
  },
  {
   "cell_type": "code",
   "execution_count": null,
   "metadata": {},
   "outputs": [],
   "source": [
    "generate_dataset(20,1)"
   ]
  },
  {
   "cell_type": "code",
   "execution_count": 120,
   "metadata": {},
   "outputs": [
    {
     "data": {
      "text/plain": [
       "2.0"
      ]
     },
     "execution_count": 120,
     "metadata": {},
     "output_type": "execute_result"
    }
   ],
   "source": [
    "np.linalg.norm([1,2], ord=0)"
   ]
  },
  {
   "cell_type": "code",
   "execution_count": null,
   "metadata": {},
   "outputs": [],
   "source": [
    "test_nointercept()\n",
    "test_intercept()"
   ]
  },
  {
   "cell_type": "markdown",
   "metadata": {},
   "source": [
    "# Least-squares\n",
    "\n",
    "Given a design matrix X and response y,\n",
    "implement the least-squares estimate $\\hat\\beta = (X^TX)^\\dagger X^Ty$\n",
    "using several methods:\n",
    "\n",
    "1. using the SVD of X `np.linalg.svd`\n",
    "2. using the pseudo-inverse of X `np.linalg.pinv`\n",
    "3. using the inverse of $X^TX$ if full-rank, and its pseudo-inverse otherwise\n",
    "4. using `scipy.linalg.lstsq`\n",
    "\n",
    "For $p=10, n=20$, generate a dataset using the previous functions and verify that all methods give the correct estimate of $\\beta$ when there is no noise.\n",
    "\n",
    "For $p=10, n=20$, generate a dataset using the previous functions and verify that all methods give the same estimate.\n"
   ]
  },
  {
   "cell_type": "code",
   "execution_count": 72,
   "metadata": {},
   "outputs": [
    {
     "data": {
      "text/plain": [
       "((20, 10), (20,), (10,))"
      ]
     },
     "execution_count": 72,
     "metadata": {},
     "output_type": "execute_result"
    }
   ],
   "source": [
    "X, y, b_true = generate_dataset(n=20, p=10)\n",
    "X.shape, y.shape, b_true.shape"
   ]
  },
  {
   "cell_type": "code",
   "execution_count": 127,
   "metadata": {},
   "outputs": [],
   "source": [
    "def compute_least_squares_using_SVD(X, y):\n",
    "    U, s, V = np.linalg.svd(np.matmul(X.T,X))\n",
    "    sigma_inv = np.zeros((U.shape[1],V.shape[0]))\n",
    "    np.fill_diagonal(sigma_inv, 1/s)\n",
    "    sigma_inv = sigma_inv.T\n",
    "    pseudo_inv = np.matmul(np.matmul(V.T , sigma_inv), U.T)\n",
    "    b_hat = np.matmul(pseudo_inv, X.T)\n",
    "    b_hat = np.matmul(b_hat , y)\n",
    "    return b_hat\n",
    "    \n",
    "def compute_least_squares_using_pseudo_inverse(X, y):\n",
    "    pseudoinv = np.linalg.pinv(np.matmul(X.T, X))\n",
    "    return np.matmul(np.matmul(pseudoinv, X.T), y )\n",
    "    \n",
    "def compute_least_squares_using_method3(X, y):\n",
    "    M = np.matmul(X.T, X)\n",
    "    if np.linalg.matrix_rank(M)==M.shape[0]:\n",
    "        method3 = np.linalg.inv(M)\n",
    "        return np.matmul(np.matmul(method3, X.T), y)\n",
    "    else:\n",
    "        return compute_least_squares_using_pseudo_inverse(X, y)\n",
    "\n",
    "def compute_least_squares_using_scipy(X, y):\n",
    "    M = np.matmul(X.T, X)\n",
    "    yy= np.matmul(X.T, y)\n",
    "    beta_hat, *_ = scipy.linalg.lstsq(M, yy)\n",
    "    return beta_hat\n",
    "    \n",
    "def test_lsqr():\n",
    "    \"\"\"Test that all methods yield the correct beta when there is no noise\n",
    "    \"\"\"\n",
    "    X, y, b_true = generate_dataset(n = 20, p = 10)\n",
    "    b_hat = compute_least_squares_using_scipy(X, X.dot(b_true))\n",
    "    np.testing.assert_allclose(b_true, b_hat)\n",
    "        \n",
    "def test_same_estimate():\n",
    "    \"\"\" Test that all methods yield the same estimate of beta\n",
    "    \"\"\"\n",
    "    X, y, b_true = generate_dataset(n = 20, p = 10)\n",
    "    b_hat1 = compute_least_squares_using_scipy(X, y)\n",
    "    b_hat2 = compute_least_squares_using_SVD(X, y)\n",
    "    np.testing.assert_allclose(b_hat2, b_hat1)\n",
    "        \n",
    "test_lsqr()\n",
    "test_same_estimate()"
   ]
  },
  {
   "cell_type": "code",
   "execution_count": 85,
   "metadata": {},
   "outputs": [
    {
     "data": {
      "text/plain": [
       "array([ 0.72660513,  0.75761151, -0.74844904,  0.4476486 ,  0.68027319,\n",
       "        0.59593051,  1.04926337, -0.32721049,  0.24476795,  0.88071352])"
      ]
     },
     "execution_count": 85,
     "metadata": {},
     "output_type": "execute_result"
    }
   ],
   "source": [
    "compute_least_squares_using_method3(X, y)"
   ]
  },
  {
   "cell_type": "markdown",
   "metadata": {},
   "source": [
    "# The distribution of the MLE, the residuals, and the loss\n",
    "\n",
    "By computing 100 independent datasets with $p=10, n=30$, verify with histograms and\n",
    "QQ-plots that the squared norm $\\|y-X\\hat\\beta\\|^2/\\sigma^2$ has chi square distribution, and recall its degrees of freedom."
   ]
  },
  {
   "cell_type": "code",
   "execution_count": 147,
   "metadata": {},
   "outputs": [
    {
     "ename": "TypeError",
     "evalue": "%s requires more parameters to compute ppf",
     "output_type": "error",
     "traceback": [
      "\u001b[1;31m---------------------------------------------------------------------------\u001b[0m",
      "\u001b[1;31mTypeError\u001b[0m                                 Traceback (most recent call last)",
      "\u001b[1;32mD:\\Software\\Python\\Python39\\lib\\site-packages\\statsmodels\\graphics\\gofplots.py\u001b[0m in \u001b[0;36mtheoretical_quantiles\u001b[1;34m(self)\u001b[0m\n\u001b[0;32m    260\u001b[0m         \u001b[1;32mtry\u001b[0m\u001b[1;33m:\u001b[0m\u001b[1;33m\u001b[0m\u001b[1;33m\u001b[0m\u001b[0m\n\u001b[1;32m--> 261\u001b[1;33m             \u001b[1;32mreturn\u001b[0m \u001b[0mself\u001b[0m\u001b[1;33m.\u001b[0m\u001b[0mdist\u001b[0m\u001b[1;33m.\u001b[0m\u001b[0mppf\u001b[0m\u001b[1;33m(\u001b[0m\u001b[0mself\u001b[0m\u001b[1;33m.\u001b[0m\u001b[0mtheoretical_percentiles\u001b[0m\u001b[1;33m)\u001b[0m\u001b[1;33m\u001b[0m\u001b[1;33m\u001b[0m\u001b[0m\n\u001b[0m\u001b[0;32m    262\u001b[0m         \u001b[1;32mexcept\u001b[0m \u001b[0mTypeError\u001b[0m\u001b[1;33m:\u001b[0m\u001b[1;33m\u001b[0m\u001b[1;33m\u001b[0m\u001b[0m\n",
      "\u001b[1;32mD:\\Software\\Python\\Python39\\lib\\site-packages\\scipy\\stats\\_distn_infrastructure.py\u001b[0m in \u001b[0;36mppf\u001b[1;34m(self, q, *args, **kwds)\u001b[0m\n\u001b[0;32m   2116\u001b[0m         \"\"\"\n\u001b[1;32m-> 2117\u001b[1;33m         \u001b[0margs\u001b[0m\u001b[1;33m,\u001b[0m \u001b[0mloc\u001b[0m\u001b[1;33m,\u001b[0m \u001b[0mscale\u001b[0m \u001b[1;33m=\u001b[0m \u001b[0mself\u001b[0m\u001b[1;33m.\u001b[0m\u001b[0m_parse_args\u001b[0m\u001b[1;33m(\u001b[0m\u001b[1;33m*\u001b[0m\u001b[0margs\u001b[0m\u001b[1;33m,\u001b[0m \u001b[1;33m**\u001b[0m\u001b[0mkwds\u001b[0m\u001b[1;33m)\u001b[0m\u001b[1;33m\u001b[0m\u001b[1;33m\u001b[0m\u001b[0m\n\u001b[0m\u001b[0;32m   2118\u001b[0m         \u001b[0mq\u001b[0m\u001b[1;33m,\u001b[0m \u001b[0mloc\u001b[0m\u001b[1;33m,\u001b[0m \u001b[0mscale\u001b[0m \u001b[1;33m=\u001b[0m \u001b[0mmap\u001b[0m\u001b[1;33m(\u001b[0m\u001b[0masarray\u001b[0m\u001b[1;33m,\u001b[0m \u001b[1;33m(\u001b[0m\u001b[0mq\u001b[0m\u001b[1;33m,\u001b[0m \u001b[0mloc\u001b[0m\u001b[1;33m,\u001b[0m \u001b[0mscale\u001b[0m\u001b[1;33m)\u001b[0m\u001b[1;33m)\u001b[0m\u001b[1;33m\u001b[0m\u001b[1;33m\u001b[0m\u001b[0m\n",
      "\u001b[1;31mTypeError\u001b[0m: _parse_args() missing 1 required positional argument: 'df'",
      "\nDuring handling of the above exception, another exception occurred:\n",
      "\u001b[1;31mTypeError\u001b[0m                                 Traceback (most recent call last)",
      "\u001b[1;32m~\\AppData\\Local\\Temp/ipykernel_25072/2140201482.py\u001b[0m in \u001b[0;36m<module>\u001b[1;34m\u001b[0m\n\u001b[0;32m      9\u001b[0m     \u001b[0mplt\u001b[0m\u001b[1;33m.\u001b[0m\u001b[0mhist\u001b[0m\u001b[1;33m(\u001b[0m\u001b[0msqnorm\u001b[0m\u001b[1;33m)\u001b[0m\u001b[1;33m\u001b[0m\u001b[1;33m\u001b[0m\u001b[0m\n\u001b[0;32m     10\u001b[0m     \u001b[0msm\u001b[0m\u001b[1;33m.\u001b[0m\u001b[0mqqplot\u001b[0m\u001b[1;33m(\u001b[0m\u001b[0mdata\u001b[0m \u001b[1;33m=\u001b[0m \u001b[0msqnorm\u001b[0m\u001b[1;33m,\u001b[0m \u001b[0mdist\u001b[0m \u001b[1;33m=\u001b[0m \u001b[0mscipy\u001b[0m\u001b[1;33m.\u001b[0m\u001b[0mstats\u001b[0m\u001b[1;33m.\u001b[0m\u001b[0mdistributions\u001b[0m\u001b[1;33m.\u001b[0m\u001b[0mchi2\u001b[0m\u001b[1;33m)\u001b[0m\u001b[1;33m\u001b[0m\u001b[1;33m\u001b[0m\u001b[0m\n\u001b[1;32m---> 11\u001b[1;33m \u001b[0merror_residual_plot\u001b[0m\u001b[1;33m(\u001b[0m\u001b[1;33m)\u001b[0m\u001b[1;33m\u001b[0m\u001b[1;33m\u001b[0m\u001b[0m\n\u001b[0m",
      "\u001b[1;32m~\\AppData\\Local\\Temp/ipykernel_25072/2140201482.py\u001b[0m in \u001b[0;36merror_residual_plot\u001b[1;34m()\u001b[0m\n\u001b[0;32m      8\u001b[0m         \u001b[0msqnorm\u001b[0m\u001b[1;33m[\u001b[0m\u001b[0mi\u001b[0m\u001b[1;33m]\u001b[0m \u001b[1;33m=\u001b[0m \u001b[0mnp\u001b[0m\u001b[1;33m.\u001b[0m\u001b[0mlinalg\u001b[0m\u001b[1;33m.\u001b[0m\u001b[0mnorm\u001b[0m\u001b[1;33m(\u001b[0m\u001b[0my\u001b[0m \u001b[1;33m-\u001b[0m \u001b[0mX\u001b[0m\u001b[1;33m.\u001b[0m\u001b[0mdot\u001b[0m\u001b[1;33m(\u001b[0m\u001b[0mb_hat\u001b[0m\u001b[1;33m)\u001b[0m\u001b[1;33m)\u001b[0m\u001b[1;33m**\u001b[0m\u001b[1;36m2\u001b[0m \u001b[1;33m/\u001b[0m \u001b[0msigma_\u001b[0m\u001b[1;33m**\u001b[0m\u001b[1;36m2\u001b[0m\u001b[1;33m\u001b[0m\u001b[1;33m\u001b[0m\u001b[0m\n\u001b[0;32m      9\u001b[0m     \u001b[0mplt\u001b[0m\u001b[1;33m.\u001b[0m\u001b[0mhist\u001b[0m\u001b[1;33m(\u001b[0m\u001b[0msqnorm\u001b[0m\u001b[1;33m)\u001b[0m\u001b[1;33m\u001b[0m\u001b[1;33m\u001b[0m\u001b[0m\n\u001b[1;32m---> 10\u001b[1;33m     \u001b[0msm\u001b[0m\u001b[1;33m.\u001b[0m\u001b[0mqqplot\u001b[0m\u001b[1;33m(\u001b[0m\u001b[0mdata\u001b[0m \u001b[1;33m=\u001b[0m \u001b[0msqnorm\u001b[0m\u001b[1;33m,\u001b[0m \u001b[0mdist\u001b[0m \u001b[1;33m=\u001b[0m \u001b[0mscipy\u001b[0m\u001b[1;33m.\u001b[0m\u001b[0mstats\u001b[0m\u001b[1;33m.\u001b[0m\u001b[0mdistributions\u001b[0m\u001b[1;33m.\u001b[0m\u001b[0mchi2\u001b[0m\u001b[1;33m)\u001b[0m\u001b[1;33m\u001b[0m\u001b[1;33m\u001b[0m\u001b[0m\n\u001b[0m\u001b[0;32m     11\u001b[0m \u001b[0merror_residual_plot\u001b[0m\u001b[1;33m(\u001b[0m\u001b[1;33m)\u001b[0m\u001b[1;33m\u001b[0m\u001b[1;33m\u001b[0m\u001b[0m\n",
      "\u001b[1;32mD:\\Software\\Python\\Python39\\lib\\site-packages\\statsmodels\\graphics\\gofplots.py\u001b[0m in \u001b[0;36mqqplot\u001b[1;34m(data, dist, distargs, a, loc, scale, fit, line, ax, **plotkwargs)\u001b[0m\n\u001b[0;32m    689\u001b[0m         \u001b[0mdata\u001b[0m\u001b[1;33m,\u001b[0m \u001b[0mdist\u001b[0m\u001b[1;33m=\u001b[0m\u001b[0mdist\u001b[0m\u001b[1;33m,\u001b[0m \u001b[0mdistargs\u001b[0m\u001b[1;33m=\u001b[0m\u001b[0mdistargs\u001b[0m\u001b[1;33m,\u001b[0m \u001b[0mfit\u001b[0m\u001b[1;33m=\u001b[0m\u001b[0mfit\u001b[0m\u001b[1;33m,\u001b[0m \u001b[0ma\u001b[0m\u001b[1;33m=\u001b[0m\u001b[0ma\u001b[0m\u001b[1;33m,\u001b[0m \u001b[0mloc\u001b[0m\u001b[1;33m=\u001b[0m\u001b[0mloc\u001b[0m\u001b[1;33m,\u001b[0m \u001b[0mscale\u001b[0m\u001b[1;33m=\u001b[0m\u001b[0mscale\u001b[0m\u001b[1;33m\u001b[0m\u001b[1;33m\u001b[0m\u001b[0m\n\u001b[0;32m    690\u001b[0m     )\n\u001b[1;32m--> 691\u001b[1;33m     \u001b[0mfig\u001b[0m \u001b[1;33m=\u001b[0m \u001b[0mprobplot\u001b[0m\u001b[1;33m.\u001b[0m\u001b[0mqqplot\u001b[0m\u001b[1;33m(\u001b[0m\u001b[0max\u001b[0m\u001b[1;33m=\u001b[0m\u001b[0max\u001b[0m\u001b[1;33m,\u001b[0m \u001b[0mline\u001b[0m\u001b[1;33m=\u001b[0m\u001b[0mline\u001b[0m\u001b[1;33m,\u001b[0m \u001b[1;33m**\u001b[0m\u001b[0mplotkwargs\u001b[0m\u001b[1;33m)\u001b[0m\u001b[1;33m\u001b[0m\u001b[1;33m\u001b[0m\u001b[0m\n\u001b[0m\u001b[0;32m    692\u001b[0m     \u001b[1;32mreturn\u001b[0m \u001b[0mfig\u001b[0m\u001b[1;33m\u001b[0m\u001b[1;33m\u001b[0m\u001b[0m\n\u001b[0;32m    693\u001b[0m \u001b[1;33m\u001b[0m\u001b[0m\n",
      "\u001b[1;32mD:\\Software\\Python\\Python39\\lib\\site-packages\\statsmodels\\graphics\\gofplots.py\u001b[0m in \u001b[0;36mqqplot\u001b[1;34m(self, xlabel, ylabel, line, other, ax, swap, **plotkwargs)\u001b[0m\n\u001b[0;32m    476\u001b[0m         \u001b[1;32melse\u001b[0m\u001b[1;33m:\u001b[0m\u001b[1;33m\u001b[0m\u001b[1;33m\u001b[0m\u001b[0m\n\u001b[0;32m    477\u001b[0m             fig, ax = _do_plot(\n\u001b[1;32m--> 478\u001b[1;33m                 \u001b[0mself\u001b[0m\u001b[1;33m.\u001b[0m\u001b[0mtheoretical_quantiles\u001b[0m\u001b[1;33m,\u001b[0m\u001b[1;33m\u001b[0m\u001b[1;33m\u001b[0m\u001b[0m\n\u001b[0m\u001b[0;32m    479\u001b[0m                 \u001b[0mself\u001b[0m\u001b[1;33m.\u001b[0m\u001b[0msample_quantiles\u001b[0m\u001b[1;33m,\u001b[0m\u001b[1;33m\u001b[0m\u001b[1;33m\u001b[0m\u001b[0m\n\u001b[0;32m    480\u001b[0m                 \u001b[0mself\u001b[0m\u001b[1;33m.\u001b[0m\u001b[0mdist\u001b[0m\u001b[1;33m,\u001b[0m\u001b[1;33m\u001b[0m\u001b[1;33m\u001b[0m\u001b[0m\n",
      "\u001b[1;32mD:\\Software\\Python\\Python39\\lib\\site-packages\\pandas\\_libs\\properties.pyx\u001b[0m in \u001b[0;36mpandas._libs.properties.CachedProperty.__get__\u001b[1;34m()\u001b[0m\n",
      "\u001b[1;32mD:\\Software\\Python\\Python39\\lib\\site-packages\\statsmodels\\graphics\\gofplots.py\u001b[0m in \u001b[0;36mtheoretical_quantiles\u001b[1;34m(self)\u001b[0m\n\u001b[0;32m    264\u001b[0m                 \u001b[0mself\u001b[0m\u001b[1;33m.\u001b[0m\u001b[0mdist\u001b[0m\u001b[1;33m.\u001b[0m\u001b[0mname\u001b[0m\u001b[1;33m,\u001b[0m\u001b[1;33m\u001b[0m\u001b[1;33m\u001b[0m\u001b[0m\n\u001b[0;32m    265\u001b[0m             )\n\u001b[1;32m--> 266\u001b[1;33m             \u001b[1;32mraise\u001b[0m \u001b[0mTypeError\u001b[0m\u001b[1;33m(\u001b[0m\u001b[0mmsg\u001b[0m\u001b[1;33m)\u001b[0m\u001b[1;33m\u001b[0m\u001b[1;33m\u001b[0m\u001b[0m\n\u001b[0m\u001b[0;32m    267\u001b[0m         \u001b[1;32mexcept\u001b[0m \u001b[0mException\u001b[0m \u001b[1;32mas\u001b[0m \u001b[0mexc\u001b[0m\u001b[1;33m:\u001b[0m\u001b[1;33m\u001b[0m\u001b[1;33m\u001b[0m\u001b[0m\n\u001b[0;32m    268\u001b[0m             \u001b[0mmsg\u001b[0m \u001b[1;33m=\u001b[0m \u001b[1;34m\"failed to compute the ppf of {0}\"\u001b[0m\u001b[1;33m.\u001b[0m\u001b[0mformat\u001b[0m\u001b[1;33m(\u001b[0m\u001b[0mself\u001b[0m\u001b[1;33m.\u001b[0m\u001b[0mdist\u001b[0m\u001b[1;33m.\u001b[0m\u001b[0mname\u001b[0m\u001b[1;33m)\u001b[0m\u001b[1;33m\u001b[0m\u001b[1;33m\u001b[0m\u001b[0m\n",
      "\u001b[1;31mTypeError\u001b[0m: %s requires more parameters to compute ppf"
     ]
    },
    {
     "data": {
      "image/png": "[encoded data removed]",
      "text/plain": [
       "<Figure size 432x288 with 1 Axes>"
      ]
     },
     "metadata": {
      "needs_background": "light"
     },
     "output_type": "display_data"
    }
   ],
   "source": [
    "def error_residual_plot():\n",
    "    N = 1000\n",
    "    sqnorm = np.zeros(N) \n",
    "    sigma_ = 0.7\n",
    "    for i in range(N):\n",
    "        X, y, b_true = generate_dataset(n = 30, p = 10, sigma = sigma_)\n",
    "        b_hat = compute_least_squares_using_scipy(X, y)\n",
    "        sqnorm[i] = np.linalg.norm(y - X.dot(b_hat))**2 / sigma_**2\n",
    "    plt.hist(sqnorm)\n",
    "    sm.qqplot(data = sqnorm, dist = scipy.stats.distributions.chi2)\n",
    "error_residual_plot()\n"
   ]
  },
  {
   "cell_type": "code",
   "execution_count": 142,
   "metadata": {},
   "outputs": [
    {
     "name": "stdout",
     "output_type": "stream",
     "text": [
      "Help on function qqplot in module statsmodels.graphics.gofplots:\n",
      "\n",
      "qqplot(data, dist=<scipy.stats._continuous_distns.norm_gen object at 0x0000019920B72B50>, distargs=(), a=0, loc=0, scale=1, fit=False, line=None, ax=None, **plotkwargs)\n",
      "    Q-Q plot of the quantiles of x versus the quantiles/ppf of a distribution.\n",
      "    \n",
      "    Can take arguments specifying the parameters for dist or fit them\n",
      "    automatically. (See fit under Parameters.)\n",
      "    \n",
      "    Parameters\n",
      "    ----------\n",
      "    data : array_like\n",
      "        A 1d data array.\n",
      "    dist : callable\n",
      "        Comparison distribution. The default is\n",
      "        scipy.stats.distributions.norm (a standard normal).\n",
      "    distargs : tuple\n",
      "        A tuple of arguments passed to dist to specify it fully\n",
      "        so dist.ppf may be called.\n",
      "    a : float\n",
      "        Offset for the plotting position of an expected order statistic, for\n",
      "        example. The plotting positions are given by (i - a)/(nobs - 2*a + 1)\n",
      "        for i in range(0,nobs+1)\n",
      "    loc : float\n",
      "        Location parameter for dist\n",
      "    scale : float\n",
      "        Scale parameter for dist\n",
      "    fit : bool\n",
      "        If fit is false, loc, scale, and distargs are passed to the\n",
      "        distribution. If fit is True then the parameters for dist\n",
      "        are fit automatically using dist.fit. The quantiles are formed\n",
      "        from the standardized data, after subtracting the fitted loc\n",
      "        and dividing by the fitted scale.\n",
      "    line : {None, \"45\", \"s\", \"r\", \"q\"}\n",
      "        Options for the reference line to which the data is compared:\n",
      "    \n",
      "        - \"45\" - 45-degree line\n",
      "        - \"s\" - standardized line, the expected order statistics are scaled\n",
      "          by the standard deviation of the given sample and have the mean\n",
      "          added to them\n",
      "        - \"r\" - A regression line is fit\n",
      "        - \"q\" - A line is fit through the quartiles.\n",
      "        - None - by default no reference line is added to the plot.\n",
      "    \n",
      "    ax : AxesSubplot, optional\n",
      "        If given, this subplot is used to plot in instead of a new figure being\n",
      "        created.\n",
      "    **plotkwargs\n",
      "        Additional matplotlib arguments to be passed to the `plot` command.\n",
      "    \n",
      "    Returns\n",
      "    -------\n",
      "    Figure\n",
      "        If `ax` is None, the created figure.  Otherwise the figure to which\n",
      "        `ax` is connected.\n",
      "    \n",
      "    See Also\n",
      "    --------\n",
      "    scipy.stats.probplot\n",
      "    \n",
      "    Notes\n",
      "    -----\n",
      "    Depends on matplotlib. If `fit` is True then the parameters are fit using\n",
      "    the distribution's fit() method.\n",
      "    \n",
      "    Examples\n",
      "    --------\n",
      "    >>> import statsmodels.api as sm\n",
      "    >>> from matplotlib import pyplot as plt\n",
      "    >>> data = sm.datasets.longley.load()\n",
      "    >>> exog = sm.add_constant(data.exog)\n",
      "    >>> mod_fit = sm.OLS(data.endog, exog).fit()\n",
      "    >>> res = mod_fit.resid # residuals\n",
      "    >>> fig = sm.qqplot(res)\n",
      "    >>> plt.show()\n",
      "    \n",
      "    qqplot of the residuals against quantiles of t-distribution with 4 degrees\n",
      "    of freedom:\n",
      "    \n",
      "    >>> import scipy.stats as stats\n",
      "    >>> fig = sm.qqplot(res, stats.t, distargs=(4,))\n",
      "    >>> plt.show()\n",
      "    \n",
      "    qqplot against same as above, but with mean 3 and std 10:\n",
      "    \n",
      "    >>> fig = sm.qqplot(res, stats.t, distargs=(4,), loc=3, scale=10)\n",
      "    >>> plt.show()\n",
      "    \n",
      "    Automatically determine parameters for t distribution including the\n",
      "    loc and scale:\n",
      "    \n",
      "    >>> fig = sm.qqplot(res, stats.t, fit=True, line=\"45\")\n",
      "    >>> plt.show()\n",
      "    \n",
      "    The following plot displays some options, follow the link to see the code.\n",
      "    \n",
      "    .. plot:: plots/graphics_gofplots_qqplot.py\n",
      "\n"
     ]
    }
   ],
   "source": [
    "help(sm.qqplot)"
   ]
  },
  {
   "cell_type": "markdown",
   "metadata": {},
   "source": [
    "# The curve of the risk of the MLE in high dimension\n",
    "\n",
    "1. Fix $n=200$, noise level $\\sigma^2=0.7$, signal strength $2$, and a grid of values for $p/n$, say $0.1, 0.2, 0.3, 0.4, ..., 2.9, 3.0$. For each for of $n, p$, generate $10$ independent datasets and plot the boxplots corresponding the squared error $\\|\\hat\\beta - \\beta^*\\|^2$ for each given ratio $p/n$. If $p>n$, make sure that $\\hat\\beta$ is the solution $(X^TX)^\\dagger X^Ty$. Plot the corresponding theoretical curves for the expected squared error found using the formula for expected inverse Wishart matrices.\n",
    "\n",
    "2. Bonus: Plot also the boxplots for the the bias and variance of the squared error. "
   ]
  },
  {
   "cell_type": "code",
   "execution_count": 35,
   "metadata": {},
   "outputs": [
    {
     "ename": "NotImplementedError",
     "evalue": "",
     "output_type": "error",
     "traceback": [
      "\u001b[0;31m---------------------------------------------------------------------------\u001b[0m",
      "\u001b[0;31mNotImplementedError\u001b[0m                       Traceback (most recent call last)",
      "\u001b[0;32m/tmp/ipykernel_841398/4148399174.py\u001b[0m in \u001b[0;36m<module>\u001b[0;34m\u001b[0m\n\u001b[1;32m      1\u001b[0m \u001b[0;31m# Question 1\u001b[0m\u001b[0;34m\u001b[0m\u001b[0;34m\u001b[0m\u001b[0;34m\u001b[0m\u001b[0m\n\u001b[0;32m----> 2\u001b[0;31m \u001b[0;32mraise\u001b[0m \u001b[0mNotImplementedError\u001b[0m\u001b[0;34m\u001b[0m\u001b[0;34m\u001b[0m\u001b[0m\n\u001b[0m\u001b[1;32m      3\u001b[0m \u001b[0;31m# Question 2\u001b[0m\u001b[0;34m\u001b[0m\u001b[0;34m\u001b[0m\u001b[0;34m\u001b[0m\u001b[0m\n\u001b[1;32m      4\u001b[0m \u001b[0;32mraise\u001b[0m \u001b[0mNotImplementedError\u001b[0m\u001b[0;34m\u001b[0m\u001b[0;34m\u001b[0m\u001b[0m\n",
      "\u001b[0;31mNotImplementedError\u001b[0m: "
     ]
    }
   ],
   "source": [
    "# Question 1\n",
    "raise NotImplementedError\n",
    "# Question 2\n",
    "raise NotImplementedError"
   ]
  },
  {
   "cell_type": "code",
   "execution_count": null,
   "metadata": {},
   "outputs": [],
   "source": []
  }
 ],
 "metadata": {
  "kernelspec": {
   "display_name": "Python 3 (ipykernel)",
   "language": "python",
   "name": "python3"
  },
  "language_info": {
   "codemirror_mode": {
    "name": "ipython",
    "version": 3
   },
   "file_extension": ".py",
   "mimetype": "text/x-python",
   "name": "python",
   "nbconvert_exporter": "python",
   "pygments_lexer": "ipython3",
   "version": "3.9.7"
  }
 },
 "nbformat": 4,
 "nbformat_minor": 2
}
